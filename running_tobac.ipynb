{
 "cells": [
  {
   "cell_type": "code",
   "execution_count": null,
   "metadata": {},
   "outputs": [],
   "source": [
    "# Import the relevant modules\n",
    "import iris\n",
    "import numpy as np\n",
    "import pandas as pd\n",
    "import matplotlib.pyplot as plt\n",
    "import iris.quickplot as qplt\n",
    "import iris.plot as iplt\n",
    "import datetime\n",
    "import shutil\n",
    "from six.moves import urllib\n",
    "from pathlib import Path\n",
    "from math import pi\n",
    "import trackpy\n",
    "from iris.time import PartialDateTime\n",
    "import tobac\n",
    "import warnings"
   ]
  },
  {
   "cell_type": "code",
   "execution_count": null,
   "metadata": {},
   "outputs": [],
   "source": [
    "# Import the libraries\n",
    "import functions\n",
    "import dictionaries"
   ]
  },
  {
   "cell_type": "code",
   "execution_count": null,
   "metadata": {},
   "outputs": [],
   "source": [
    "# Set up the warning messages\n",
    "warnings.filterwarnings('ignore', category=UserWarning, append=True)\n",
    "warnings.filterwarnings('ignore', category=RuntimeWarning, append=True)\n",
    "warnings.filterwarnings('ignore', category=FutureWarning, append=True)\n",
    "warnings.filterwarnings('ignore', category=pd.io.pytables.PerformanceWarning)"
   ]
  },
  {
   "cell_type": "code",
   "execution_count": null,
   "metadata": {},
   "outputs": [],
   "source": [
    "# Load the olr and precip data\n",
    "olr, time_olr, datetimes_olr, con_olr = functions.load_olr_data(dictionaries.data_file)\n",
    "\n",
    "# Load the precip data\n",
    "precip, time_precip, datetimes_precip, con_precip = functions.load_precip_data(dictionaries.precip)"
   ]
  },
  {
   "cell_type": "code",
   "execution_count": null,
   "metadata": {},
   "outputs": [],
   "source": [
    "# Set up the directory to save the data\n",
    "savedir, plot_dir = functions.setup_directories()"
   ]
  },
  {
   "cell_type": "code",
   "execution_count": null,
   "metadata": {},
   "outputs": [],
   "source": [
    "# Extract longitude and latitude\n",
    "longitude,latitude=np.meshgrid(olr.coord('longitude').points,olr.coord('latitude').points)\n",
    "\n",
    "# Calculate dxy\n",
    "dxy, dt = functions.calculate_dxy(longitude, latitude, olr)\n",
    "\n",
    "# Calculate brightness temperatures\n",
    "tf, tb_var, tb = functions.calculate_temperatures(dictionaries.a, dictionaries.b, dictionaries.sigma, olr)"
   ]
  },
  {
   "cell_type": "code",
   "execution_count": null,
   "metadata": {},
   "outputs": [],
   "source": [
    "# Set up the parameters dictionaries\n",
    "# features parameters\n",
    "parameters_features = functions.setup_parameters_features(dictionaries.position_threshold, dictionaries.sigma_threshold, dictionaries.target, dictionaries.threshold, dictionaries.n_min_threshold)\n",
    "\n",
    "# segmentation parameters\n",
    "parameters_segmentation = functions.setup_parameters_segmentation(dictionaries.target, dictionaries.method, dictionaries.threshold)\n",
    "\n",
    "# linking parameters\n",
    "parameters_linking = functions.setup_parameters_linking(dictionaries.v_max, dictionaries.stubs, dictionaries.order, dictionaries.extrapolate, dictionaries.memory, dictionaries.adaptive_stop, dictionaries.adaptive_step, dictionaries.subnetwork_size, dictionaries.method_linking)"
   ]
  },
  {
   "cell_type": "code",
   "execution_count": null,
   "metadata": {},
   "outputs": [],
   "source": [
    "# Now perform the sensitivity analysis\n",
    "print(\"Values of threshold to be tested: \", dictionaries.threshold_values)\n",
    "\n",
    "# Call the sensitivity analysis function\n",
    "functions.perform_sensitivity_analysis(tb, savedir, parameters_features, parameters_segmentation, parameters_linking, dictionaries.threshold_values)"
   ]
  }
 ],
 "metadata": {
  "language_info": {
   "name": "python"
  },
  "orig_nbformat": 4
 },
 "nbformat": 4,
 "nbformat_minor": 2
}
